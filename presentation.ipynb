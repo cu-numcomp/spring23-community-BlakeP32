{
 "cells": [
  {
   "cell_type": "markdown",
   "id": "70cb0d32-1d28-46f2-b2cb-11e5cf0179ac",
   "metadata": {},
   "source": [
    "# Community Software Analysis Scikit-Learn"
   ]
  },
  {
   "cell_type": "code",
   "execution_count": 2,
   "id": "2290d0df-4cc2-4ce7-91a7-06e93e118554",
   "metadata": {},
   "outputs": [],
   "source": [
    "import sklearn\n",
    "import numpy as np\n",
    "import scipy\n",
    "from sklearn.preprocessing import PolynomialFeatures\n",
    "from sklearn.linear_model import LinearRegression\n",
    "import matplotlib.pyplot as plt\n",
    "import random\n",
    "from sklearn.linear_model import SGDRegressor\n",
    "from sklearn.decomposition import TruncatedSVD\n",
    "from sklearn.datasets import load_digits"
   ]
  },
  {
   "cell_type": "markdown",
   "id": "9a9469a7-c807-4cda-be76-0104b0e30d4e",
   "metadata": {},
   "source": [
    "### What I've Learned"
   ]
  },
  {
   "cell_type": "markdown",
   "id": "83c5ea59-bde0-4b3b-8e51-9138e6768eef",
   "metadata": {},
   "source": [
    "Scikit-Learn is a machine learning library for python. This library uses a lot of methods we have used in class. It has algorithms that use graident descent, it has multiple regression algorithm, It has spline and polynomial interpolation functions in it's preprocessing module, it include SVD, QR-factorization, and the gram schmidt method in it's decompostion module, and a lot of algorithms that use linear algebra topics covered in class for example Principle Component Analysis, Partial Least sqaure Regression, and multidimension scaling."
   ]
  },
  {
   "cell_type": "markdown",
   "id": "53c24407-a146-463f-9ef1-749b8a7fcb8e",
   "metadata": {},
   "source": [
    "#### Spline Interpolation"
   ]
  },
  {
   "cell_type": "code",
   "execution_count": null,
   "id": "5c5e3eb7-a5be-4c9b-a615-b10db0453a77",
   "metadata": {},
   "outputs": [],
   "source": [
    "x = np.linspace(0, 20, num=50, endpoint=True)\n",
    "y = np.sin(x/3)\n",
    "for i in range(len(y)):\n",
    "    y[i] += random.uniform(-0.5, 0.5)\n",
    "\n",
    "poly = PolynomialFeatures(degree=3)\n",
    "X_poly = poly.fit_transform(x.reshape(-1, 1))\n",
    "\n",
    "lin_reg = LinearRegression()\n",
    "\n",
    "lin_reg.fit(X_poly, y)\n",
    "\n",
    "x_new = np.linspace(0, 20, num=501, endpoint=True)\n",
    "X_new_poly = poly.transform(x_new.reshape(-1, 1))\n",
    "y_new = lin_reg.predict(X_new_poly)\n",
    "\n",
    "plt.plot(x, y, 'o', x_new, y_new, '-')\n",
    "plt.legend(['data', 'spline'], loc='best')\n",
    "plt.show()"
   ]
  },
  {
   "cell_type": "markdown",
   "id": "01779612-e1ca-4847-b83c-e9297d4c159e",
   "metadata": {},
   "source": []
  }
 ],
 "metadata": {
  "kernelspec": {
   "display_name": "Python 3 (ipykernel)",
   "language": "python",
   "name": "python3"
  },
  "language_info": {
   "codemirror_mode": {
    "name": "ipython",
    "version": 3
   },
   "file_extension": ".py",
   "mimetype": "text/x-python",
   "name": "python",
   "nbconvert_exporter": "python",
   "pygments_lexer": "ipython3",
   "version": "3.10.8"
  }
 },
 "nbformat": 4,
 "nbformat_minor": 5
}
